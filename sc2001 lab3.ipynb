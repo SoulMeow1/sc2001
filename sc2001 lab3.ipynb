{
 "cells": [
  {
   "cell_type": "markdown",
   "id": "89283a4c",
   "metadata": {},
   "source": [
    "# 1/0 Knapsack Problem\n",
    "\n",
    "We have a knapsack of capacity weight C (a positive integer) and n types of objects. Each object of the ith type has weight wi and profit pi (all wi and all pi are positive integers, i = 0, 1, …, n-1). There are unlimited supplies of each type of objects. Find the largest total profit of any set of the objects that fits in the knapsack. Let P(C) be the maximum profit that can be made by packing objects into the knapsack of capacity C.\n",
    "\n",
    "(1) Give a recursive definition of the function P(C)."
   ]
  },
  {
   "cell_type": "code",
   "execution_count": 16,
   "id": "6a861026",
   "metadata": {},
   "outputs": [
    {
     "name": "stdout",
     "output_type": "stream",
     "text": [
      "16\n"
     ]
    }
   ],
   "source": [
    "def recursiveKS(items, capacity, n):\n",
    "    if n == -1 or capacity == 0:\n",
    "        return 0\n",
    "    \n",
    "    if capacity < items[n][0]:\n",
    "        return recursiveKS(items, capacity, n - 1)\n",
    "    \n",
    "    temp1 = recursiveKS(items, capacity, n - 1)\n",
    "    temp2 = items[n][1] + recursiveKS(items, capacity - items[n][0], n - 1)\n",
    "    return max(temp1, temp2)\n",
    "    \n",
    "items = [(4, 7), #(weight, profit)\n",
    "         (6, 6),\n",
    "         (8, 9)]\n",
    "\n",
    "print(recursiveKS(items, 14, len(items) - 1))"
   ]
  },
  {
   "cell_type": "markdown",
   "id": "d331d502",
   "metadata": {},
   "source": [
    "(2) Draw the subproblem graph for P(14) where n is 3 with the weights and profits\n",
    "given below.\n",
    "\n",
    "|   | 0 | 1 | 2 |\n",
    "|---|---|---|---|\n",
    "|wi | 4 | 6 | 8 |\n",
    "|pi | 7 | 6 | 9 |\n",
    "\n",
    "(idk how to draw this in jupyter notebook lol, go use draw.io or something)\n",
    "\n",
    "(3) Give a dynamic programming algorithm to compute the maximum profit, given a\n",
    "knapsack of capacity C, n types of objects with weights wi and profits pi using the\n",
    "bottom up approach."
   ]
  },
  {
   "cell_type": "code",
   "execution_count": 17,
   "id": "2dfb6959",
   "metadata": {},
   "outputs": [],
   "source": [
    "def dynamicKS(items, capacity, n, memo):\n",
    "\n",
    "    if n == -1 or capacity == 0:\n",
    "        return 0\n",
    "    \n",
    "    if memo[n][capacity] != -1:\n",
    "        return memo[n][capacity]\n",
    "    \n",
    "    if capacity < items[n][0]:\n",
    "        return dynamicKS(items, capacity, n - 1, memo)\n",
    "    \n",
    "    temp1 = dynamicKS(items, capacity, n - 1, memo)\n",
    "    temp2 = items[n][1] + dynamicKS(items, capacity - items[n][0], n - 1, memo)\n",
    "    memo[n][capacity] = max(temp1, temp2)\n",
    "    #print(f\"updating memo[{n}][{capacity}] to {memo[n][capacity]}\")\n",
    "    return memo[n][capacity]"
   ]
  },
  {
   "cell_type": "markdown",
   "id": "3228e9c8",
   "metadata": {},
   "source": [
    "(4) Code your algorithm in a programming language\n",
    "\n",
    "a. show the running result of P(14) with weights and profits given in (2)."
   ]
  },
  {
   "cell_type": "code",
   "execution_count": 18,
   "id": "e3a80ab4",
   "metadata": {},
   "outputs": [
    {
     "name": "stdout",
     "output_type": "stream",
     "text": [
      "16\n"
     ]
    }
   ],
   "source": [
    "items = [(4, 7), #(weight, profit)\n",
    "         (6, 6),\n",
    "         (8, 9)]\n",
    "capacity = 14\n",
    "n = 3\n",
    "memo = [[-1 for i in range(capacity + 1)] for j in range(n + 1)]\n",
    "print(dynamicKS(items, capacity, n - 1, memo))\n",
    "# for i in range(3):\n",
    "#     print(memo[i])"
   ]
  },
  {
   "cell_type": "markdown",
   "id": "0cab2ad2",
   "metadata": {},
   "source": [
    "b. Show the running result of P(14) with weights and profits given below.\n",
    "\n",
    "|   | 0 | 1 | 2 |\n",
    "|---|---|---|---|\n",
    "|wi | 5 | 6 | 8 |\n",
    "|pi | 7 | 6 | 9 |"
   ]
  },
  {
   "cell_type": "code",
   "execution_count": 19,
   "id": "00f81750",
   "metadata": {},
   "outputs": [
    {
     "name": "stdout",
     "output_type": "stream",
     "text": [
      "16\n"
     ]
    }
   ],
   "source": [
    "items = [(5, 7), #(weight, profit)\n",
    "         (6, 6),\n",
    "         (8, 9)]\n",
    "capacity = 14\n",
    "n = 3\n",
    "memo = [[-1 for i in range(capacity + 1)] for j in range(n + 1)]\n",
    "print(dynamicKS(items, capacity, n - 1, memo))"
   ]
  },
  {
   "cell_type": "markdown",
   "id": "7ecc4596",
   "metadata": {},
   "source": [
    "# Unbounded knapsack\n",
    "\n",
    "Unbounded Knapsack is a variation where there are unlimited objects instead of one instance of each object. \n",
    "\n",
    "(1) Give a recursive definition of the function P(C)."
   ]
  },
  {
   "cell_type": "code",
   "execution_count": 20,
   "id": "4747f222",
   "metadata": {},
   "outputs": [
    {
     "name": "stdout",
     "output_type": "stream",
     "text": [
      "21\n"
     ]
    }
   ],
   "source": [
    "def recursiveUKS(items, capacity, n):\n",
    "    if n == 0 or capacity == 0:\n",
    "            return 0\n",
    "\n",
    "    if items[n - 1][0] <= capacity:\n",
    "        return max((items[n - 1][1] + recursiveUKS(items, capacity - items[n - 1][0], n)), \n",
    "                   recursiveUKS(items, capacity, n - 1))\n",
    "    else:\n",
    "        return recursiveUKS(items, capacity, n - 1)\n",
    "\n",
    "items = [(4, 7), #(weight, profit)\n",
    "         (6, 6),\n",
    "         (8, 9)]\n",
    "\n",
    "print(recursiveUKS(items, 14, len(items) - 1))"
   ]
  },
  {
   "cell_type": "markdown",
   "id": "283f00ea",
   "metadata": {},
   "source": [
    "(2) Draw the subproblem graph for P(14) where n is 3 with the weights and profits\n",
    "given below.\n",
    "\n",
    "|   | 0 | 1 | 2 |\n",
    "|---|---|---|---|\n",
    "|wi | 4 | 6 | 8 |\n",
    "|pi | 7 | 6 | 9 |\n",
    "\n",
    "(idk how to draw this in jupyter notebook lol, go use draw.io or something)\n",
    "\n",
    "(3) Give a dynamic programming algorithm to compute the maximum profit, given a\n",
    "knapsack of capacity C, n types of objects with weights wi and profits pi using the\n",
    "bottom up approach."
   ]
  },
  {
   "cell_type": "code",
   "execution_count": 51,
   "id": "5639111f",
   "metadata": {},
   "outputs": [],
   "source": [
    "def dynamicUKS(items, capacity, n):\n",
    "    n = len(items)\n",
    "    dp = [0] * (capacity + 1)\n",
    "\n",
    "    for w in range(1, capacity + 1):\n",
    "        for i in range(n):\n",
    "            if items[i][0] <= w:\n",
    "                dp[w] = max(dp[w], dp[w - items[i][0]] + items[i][1])\n",
    "\n",
    "    return dp[W]"
   ]
  },
  {
   "cell_type": "markdown",
   "id": "623236c6",
   "metadata": {},
   "source": [
    "(4) Code your algorithm in a programming language\n",
    "\n",
    "a. show the running result of P(14) with weights and profits given in (2)."
   ]
  },
  {
   "cell_type": "code",
   "execution_count": 52,
   "id": "385179e1",
   "metadata": {},
   "outputs": [
    {
     "name": "stdout",
     "output_type": "stream",
     "text": [
      "21\n"
     ]
    }
   ],
   "source": [
    "items = [(4, 7), #(weight, profit)\n",
    "         (6, 6),\n",
    "         (8, 9)]\n",
    "w = 14\n",
    "\n",
    "print(dynamicUKS(items, w, len(items) - 1))"
   ]
  },
  {
   "cell_type": "markdown",
   "id": "18d1570d",
   "metadata": {},
   "source": [
    "b. Show the running result of P(14) with weights and profits given below.\n",
    "\n",
    "|   | 0 | 1 | 2 |\n",
    "|---|---|---|---|\n",
    "|wi | 5 | 6 | 8 |\n",
    "|pi | 7 | 6 | 9 |"
   ]
  },
  {
   "cell_type": "code",
   "execution_count": 53,
   "id": "cc15aa35",
   "metadata": {},
   "outputs": [
    {
     "name": "stdout",
     "output_type": "stream",
     "text": [
      "16\n"
     ]
    }
   ],
   "source": [
    "items = [(5, 7), #(weight, profit)\n",
    "         (6, 6),\n",
    "         (8, 9)]\n",
    "w = 14\n",
    "\n",
    "print(dynamicUKS(items, w, len(items) - 1))"
   ]
  },
  {
   "cell_type": "code",
   "execution_count": null,
   "id": "f92cf9df",
   "metadata": {},
   "outputs": [],
   "source": []
  },
  {
   "cell_type": "code",
   "execution_count": null,
   "id": "5d87dd64",
   "metadata": {},
   "outputs": [],
   "source": []
  }
 ],
 "metadata": {
  "kernelspec": {
   "display_name": "Python 3 (ipykernel)",
   "language": "python",
   "name": "python3"
  },
  "language_info": {
   "codemirror_mode": {
    "name": "ipython",
    "version": 3
   },
   "file_extension": ".py",
   "mimetype": "text/x-python",
   "name": "python",
   "nbconvert_exporter": "python",
   "pygments_lexer": "ipython3",
   "version": "3.9.13"
  }
 },
 "nbformat": 4,
 "nbformat_minor": 5
}
