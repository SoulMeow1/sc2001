{
 "cells": [
  {
   "cell_type": "markdown",
   "id": "859a8491",
   "metadata": {},
   "source": [
    "# Integration of Mergesort & Insertion Sort\n",
    "\n",
    "In Mergesort, when the sizes of subarrays are small, the overhead of many recursive calls makes the algorithm inefficient. Therefore, in real use, we often combine Mergesort with Insertion Sort to come up with a hybrid sorting algorithm for better efficiency. The idea is to set a small integer S as a threshold for the size of subarrays. Once the size of a subarray in a recursive call of Mergesort is less than or equal to S, the algorithm will switch to Insertion Sort, which is efficient for small-sized input.\n",
    "\n",
    "## Below is the implementation of a typical merge sort algorithm"
   ]
  },
  {
   "cell_type": "code",
   "execution_count": 1,
   "id": "5e9606b4",
   "metadata": {},
   "outputs": [
    {
     "name": "stdout",
     "output_type": "stream",
     "text": [
      "Sorted array is:  [0, 1, 2, 3, 4, 5, 6, 7, 8, 9]\n",
      "number of comparisons:  23\n"
     ]
    }
   ],
   "source": [
    "import random\n",
    "\n",
    "def merge_sort(arr):\n",
    "    if len(arr) <= 1:\n",
    "        return arr, 0\n",
    "\n",
    "    comp = 0\n",
    "    mid = len(arr) // 2\n",
    "    l_half = arr[:mid]\n",
    "    r_half = arr[mid:]\n",
    "\n",
    "    l_half, l = merge_sort(l_half)\n",
    "    r_half, r = merge_sort(r_half)\n",
    "    comp += l + r\n",
    "    \n",
    "    result = []\n",
    "    l_idx, r_idx = 0, 0\n",
    "\n",
    "    while l_idx < len(l_half) and r_idx < len(r_half):\n",
    "        if l_half[l_idx] < r_half[r_idx]:\n",
    "            result.append(l_half[l_idx])\n",
    "            l_idx += 1\n",
    "        else:\n",
    "            result.append(r_half[r_idx])\n",
    "            r_idx += 1\n",
    "        comp += 1\n",
    "\n",
    "    result.extend(l_half[l_idx:])\n",
    "    result.extend(r_half[r_idx:])\n",
    "\n",
    "    return result, comp\n",
    "\n",
    "arr = [0, 5, 6, 2, 1, 8, 7, 4, 3, 9]\n",
    "sorted_arr, comp = merge_sort(arr)\n",
    "print(\"Sorted array is: \", sorted_arr)\n",
    "print(\"number of comparisons: \", comp)"
   ]
  },
  {
   "cell_type": "markdown",
   "id": "f8329957",
   "metadata": {},
   "source": [
    "## Below is the implementation of a typical insertion sort algorithm."
   ]
  },
  {
   "cell_type": "code",
   "execution_count": 2,
   "id": "d04f3068",
   "metadata": {},
   "outputs": [
    {
     "name": "stdout",
     "output_type": "stream",
     "text": [
      "Sorted array is:  [0, 1, 2, 3, 4, 5, 6, 7, 8, 9]\n",
      "number of comparisons:  15\n"
     ]
    }
   ],
   "source": [
    "def insertion_sort(arr):\n",
    "    comp = 0\n",
    "    for i in range(1, len(arr)):\n",
    "        key = arr[i]\n",
    "        j = i - 1\n",
    "\n",
    "        while j >= 0 and arr[j] > key:\n",
    "            comp += 1\n",
    "            arr[j + 1] = arr[j]\n",
    "            j -= 1\n",
    "        arr[j + 1] = key\n",
    "\n",
    "    return arr, comp\n",
    "\n",
    "arr = [0, 5, 6, 2, 1, 8, 7, 4, 3, 9]\n",
    "sorted_arr, comp = insertion_sort(arr)\n",
    "print(\"Sorted array is: \", sorted_arr)\n",
    "print(\"number of comparisons: \", comp)"
   ]
  },
  {
   "cell_type": "markdown",
   "id": "9505ca23",
   "metadata": {},
   "source": [
    "## Below is the implementation of the hybrid merge-insertion sort algorithm. \n",
    "\n",
    "The idea is to set a small integer S as a threshold for the size of subarrays. Once the size of a subarray in a recursive call of Mergesort is less than or equal to S, the algorithm will switch to Insertion Sort, which is efficient for small-sized input. for this sample, s is set to 5."
   ]
  },
  {
   "cell_type": "code",
   "execution_count": 3,
   "id": "0835e646",
   "metadata": {},
   "outputs": [
    {
     "name": "stdout",
     "output_type": "stream",
     "text": [
      "Sorted array is:  [0, 1, 2, 3, 4, 5, 6, 7, 8, 9]\n",
      "number of comparisons:  18\n"
     ]
    }
   ],
   "source": [
    "def merge_insertion_sort(arr, s):\n",
    "    if len(arr) <= s:\n",
    "        return insertion_sort(arr)\n",
    "\n",
    "    comp = 0\n",
    "    mid = len(arr) // 2\n",
    "    l_half = arr[:mid]\n",
    "    r_half = arr[mid:]\n",
    "\n",
    "    l_half, l = merge_insertion_sort(l_half, s)\n",
    "    r_half, r = merge_insertion_sort(r_half, s)\n",
    "    comp += l + r\n",
    "    \n",
    "    result = []\n",
    "    l_idx, r_idx = 0, 0\n",
    "\n",
    "    while l_idx < len(l_half) and r_idx < len(r_half):\n",
    "        if l_half[l_idx] < r_half[r_idx]:\n",
    "            result.append(l_half[l_idx])\n",
    "            l_idx += 1\n",
    "        else:\n",
    "            result.append(r_half[r_idx])\n",
    "            r_idx += 1\n",
    "        comp += 1\n",
    "\n",
    "    result.extend(l_half[l_idx:])\n",
    "    result.extend(r_half[r_idx:])\n",
    "\n",
    "    return result, comp\n",
    "\n",
    "arr = [0, 5, 6, 2, 1, 8, 7, 4, 3, 9]\n",
    "sorted_arr, comp = merge_insertion_sort(arr, 5)\n",
    "print(\"Sorted array is: \", sorted_arr)\n",
    "print(\"number of comparisons: \", comp)"
   ]
  },
  {
   "cell_type": "markdown",
   "id": "d114e504",
   "metadata": {},
   "source": [
    "## Below is the implementation of a simple int array generator"
   ]
  },
  {
   "cell_type": "code",
   "execution_count": 27,
   "id": "13085a72",
   "metadata": {},
   "outputs": [
    {
     "name": "stdout",
     "output_type": "stream",
     "text": [
      "Sorted array is: [2, 2, 3, 5, 9, 14, 15, 17, 20, 20, 20, 25, 27, 32, 35, 38, 39, 41, 43, 44]\n",
      "number of comparisons:  51\n",
      "number of comparisons:  8257\n"
     ]
    }
   ],
   "source": [
    "def generate_arr(size, smallest, largest):\n",
    "    arr = []\n",
    "    for i in range(0, size):\n",
    "        arr.append(random.randint(smallest, largest))\n",
    "        \n",
    "    return arr\n",
    "\n",
    "arr = generate_arr(20, 0, 50)\n",
    "\n",
    "sorted_arr, comp = merge_insertion_sort(arr, 4)\n",
    "print(\"Sorted array is:\", sorted_arr)\n",
    "print(\"number of comparisons: \", comp)\n",
    "\n",
    "arr = generate_arr(1000, 0, 1000)\n",
    "\n",
    "sorted_arr, comp = merge_insertion_sort(arr, 4)\n",
    "print(\"number of comparisons: \", comp)"
   ]
  },
  {
   "cell_type": "markdown",
   "id": "c86aba3f",
   "metadata": {},
   "source": [
    "## i. With the value of S fixed, plot the number of key comparisons over different sizes of the input list n.\n",
    "\n",
    "Now it is time to generate arrays of increasing sizes, in a range from 1,000 to 10 million. Below, arr will contain 1000, 2000, 3000, ... 9 000 000, 10 000 000 int numbers. Then to record the number of key comparisons using merge-insertion sort. S is fixed to 10"
   ]
  },
  {
   "cell_type": "code",
   "execution_count": 33,
   "id": "696887b0",
   "metadata": {
    "scrolled": true
   },
   "outputs": [
    {
     "name": "stdout",
     "output_type": "stream",
     "text": [
      "list of key comparisons: \n",
      "8420\n",
      "19045\n",
      "29782\n",
      "41875\n",
      "54964\n",
      "65609\n",
      "78599\n",
      "91845\n",
      "105821\n",
      "120336\n",
      "120551\n",
      "259756\n",
      "400423\n",
      "559527\n",
      "699041\n",
      "860167\n",
      "1026835\n",
      "1200392\n",
      "1333105\n",
      "1498049\n",
      "1498966\n",
      "3196428\n",
      "5051575\n",
      "6793012\n",
      "8712634\n",
      "10702600\n",
      "12519396\n",
      "14385395\n",
      "16384012\n",
      "18421876\n",
      "18421418\n",
      "38844949\n",
      "59620621\n",
      "81692807\n",
      "104723580\n",
      "125245227\n",
      "148070827\n",
      "171377513\n",
      "195175622\n",
      "219435063\n"
     ]
    }
   ],
   "source": [
    "# note to self: PLEASE DONT RUN THIS FREQUENTLY, ITS SUPER CPU INTENSIVE for 15 mins\n",
    "\n",
    "key_comparisons = []\n",
    "\n",
    "for i in range(3, 7):\n",
    "    for j in range(1, 11):\n",
    "        arr = generate_arr(10**i * j, 0, 10**i)\n",
    "        sorted_arr, comp = merge_insertion_sort(arr, 10)\n",
    "        key_comparisons.append(comp)\n",
    "\n",
    "print(\"list of key comparisons: \")\n",
    "for i in key_comparisons:\n",
    "    print(i)"
   ]
  },
  {
   "cell_type": "code",
   "execution_count": 36,
   "id": "9b70c607",
   "metadata": {},
   "outputs": [
    {
     "data": {
      "text/html": [
       "<div>\n",
       "<style scoped>\n",
       "    .dataframe tbody tr th:only-of-type {\n",
       "        vertical-align: middle;\n",
       "    }\n",
       "\n",
       "    .dataframe tbody tr th {\n",
       "        vertical-align: top;\n",
       "    }\n",
       "\n",
       "    .dataframe thead th {\n",
       "        text-align: right;\n",
       "    }\n",
       "</style>\n",
       "<table border=\"1\" class=\"dataframe\">\n",
       "  <thead>\n",
       "    <tr style=\"text-align: right;\">\n",
       "      <th></th>\n",
       "      <th>key_comparisons</th>\n",
       "      <th>index</th>\n",
       "    </tr>\n",
       "  </thead>\n",
       "  <tbody>\n",
       "    <tr>\n",
       "      <th>key_comparisons</th>\n",
       "      <td>1.000000</td>\n",
       "      <td>0.735256</td>\n",
       "    </tr>\n",
       "    <tr>\n",
       "      <th>index</th>\n",
       "      <td>0.735256</td>\n",
       "      <td>1.000000</td>\n",
       "    </tr>\n",
       "  </tbody>\n",
       "</table>\n",
       "</div>"
      ],
      "text/plain": [
       "                 key_comparisons     index\n",
       "key_comparisons         1.000000  0.735256\n",
       "index                   0.735256  1.000000"
      ]
     },
     "execution_count": 36,
     "metadata": {},
     "output_type": "execute_result"
    },
    {
     "data": {
      "image/png": "[encoded data removed]",
      "text/plain": [
       "<Figure size 1200x1200 with 3 Axes>"
      ]
     },
     "metadata": {},
     "output_type": "display_data"
    }
   ],
   "source": [
    "import pandas as pd\n",
    "import seaborn as sb\n",
    "import matplotlib.pyplot as plt \n",
    "\n",
    "pd_key_comp = pd.DataFrame({'key_comparisons': key_comparisons})\n",
    "pd_key_comp['index'] = pd_key_comp.index\n",
    "\n",
    "sb.jointplot(data = pd_key_comp, x = 'index', y = \"key_comparisons\", height = 12)\n",
    "pd_key_comp.corr()"
   ]
  },
  {
   "cell_type": "markdown",
   "id": "bc1f298e",
   "metadata": {},
   "source": [
    "Theoretically mergesort has a time complexity of O(nlogn) and insertion sort time complexity O(n^2). So with the hybrid algorithm, the time complexity is exponential. here we observe that the number of comparisons rise exponentially when the number of items in the array rises linearly. Thus this evidence supports the notion that merge-insertion sort has an exponential function\n",
    "\n",
    "## ii. With the input size n fixed, plot the number of key comparisons over different values of S\n",
    "\n",
    "n shall be fixed to 10000, S shall increase linearly from 1 to 100."
   ]
  },
  {
   "cell_type": "code",
   "execution_count": 51,
   "id": "285e613e",
   "metadata": {
    "scrolled": true
   },
   "outputs": [
    {
     "name": "stdout",
     "output_type": "stream",
     "text": [
      "list of key comparisons: \n",
      "120397\n",
      "118315\n",
      "117187\n",
      "116985\n",
      "116173\n",
      "116208\n",
      "116044\n",
      "116132\n",
      "116808\n",
      "119754\n",
      "119848\n",
      "120089\n",
      "120270\n",
      "120017\n",
      "119810\n",
      "120156\n",
      "120069\n",
      "120334\n",
      "126819\n",
      "135152\n",
      "135340\n",
      "134895\n",
      "135446\n",
      "134897\n",
      "134983\n",
      "135244\n",
      "135240\n",
      "135080\n",
      "134809\n",
      "135274\n",
      "136032\n",
      "134808\n",
      "135476\n",
      "135539\n",
      "135114\n",
      "135294\n",
      "135576\n",
      "133934\n",
      "172032\n",
      "174717\n",
      "174259\n",
      "174971\n",
      "174639\n",
      "173603\n",
      "174693\n",
      "175428\n",
      "174014\n",
      "174774\n",
      "176316\n",
      "174673\n"
     ]
    }
   ],
   "source": [
    "key_comparisons = []\n",
    "\n",
    "for s in range(1, 51):\n",
    "        arr = generate_arr(10000, 0, 10000)\n",
    "        sorted_arr, comp = merge_insertion_sort(arr, s)\n",
    "        key_comparisons.append(comp)\n",
    "\n",
    "print(\"list of key comparisons: \")\n",
    "for i in key_comparisons:\n",
    "    print(i)"
   ]
  },
  {
   "cell_type": "code",
   "execution_count": 52,
   "id": "ff16b4b8",
   "metadata": {},
   "outputs": [
    {
     "data": {
      "text/html": [
       "<div>\n",
       "<style scoped>\n",
       "    .dataframe tbody tr th:only-of-type {\n",
       "        vertical-align: middle;\n",
       "    }\n",
       "\n",
       "    .dataframe tbody tr th {\n",
       "        vertical-align: top;\n",
       "    }\n",
       "\n",
       "    .dataframe thead th {\n",
       "        text-align: right;\n",
       "    }\n",
       "</style>\n",
       "<table border=\"1\" class=\"dataframe\">\n",
       "  <thead>\n",
       "    <tr style=\"text-align: right;\">\n",
       "      <th></th>\n",
       "      <th>key_comparisons</th>\n",
       "      <th>s_size</th>\n",
       "    </tr>\n",
       "  </thead>\n",
       "  <tbody>\n",
       "    <tr>\n",
       "      <th>key_comparisons</th>\n",
       "      <td>1.000000</td>\n",
       "      <td>0.896966</td>\n",
       "    </tr>\n",
       "    <tr>\n",
       "      <th>s_size</th>\n",
       "      <td>0.896966</td>\n",
       "      <td>1.000000</td>\n",
       "    </tr>\n",
       "  </tbody>\n",
       "</table>\n",
       "</div>"
      ],
      "text/plain": [
       "                 key_comparisons    s_size\n",
       "key_comparisons         1.000000  0.896966\n",
       "s_size                  0.896966  1.000000"
      ]
     },
     "execution_count": 52,
     "metadata": {},
     "output_type": "execute_result"
    },
    {
     "data": {
      "image/png": "[encoded data removed]",
      "text/plain": [
       "<Figure size 1200x1200 with 3 Axes>"
      ]
     },
     "metadata": {},
     "output_type": "display_data"
    }
   ],
   "source": [
    "pd_key_comp = pd.DataFrame({'key_comparisons': key_comparisons})\n",
    "pd_key_comp['s_size'] = pd_key_comp.index\n",
    "\n",
    "sb.jointplot(data = pd_key_comp, x = 's_size', y = \"key_comparisons\", height = 12)\n",
    "pd_key_comp.corr()"
   ]
  },
  {
   "cell_type": "code",
   "execution_count": 53,
   "id": "bbc75fe4",
   "metadata": {
    "scrolled": true
   },
   "outputs": [
    {
     "name": "stdout",
     "output_type": "stream",
     "text": [
      "list of key comparisons: \n",
      "8684\n",
      "8444\n",
      "8449\n",
      "8293\n",
      "8266\n",
      "8353\n",
      "8332\n",
      "8485\n",
      "8420\n",
      "8510\n",
      "8478\n",
      "8437\n",
      "8429\n",
      "8444\n",
      "8775\n",
      "9579\n",
      "9413\n",
      "9559\n",
      "9485\n",
      "9564\n",
      "9389\n",
      "9570\n",
      "9414\n",
      "9382\n",
      "9575\n",
      "9604\n",
      "9592\n",
      "9633\n",
      "9361\n",
      "9512\n",
      "11606\n",
      "12502\n",
      "12706\n",
      "12164\n",
      "12521\n",
      "12680\n",
      "12789\n",
      "12466\n",
      "12432\n",
      "12363\n",
      "12376\n",
      "12818\n",
      "12630\n",
      "12431\n",
      "12533\n",
      "12702\n",
      "12618\n",
      "12382\n",
      "12346\n",
      "12593\n"
     ]
    }
   ],
   "source": [
    "key_comparisons = []\n",
    "\n",
    "for s in range(1, 51):\n",
    "        arr = generate_arr(1000, 0, 1000)\n",
    "        sorted_arr, comp = merge_insertion_sort(arr, s)\n",
    "        key_comparisons.append(comp)\n",
    "\n",
    "print(\"list of key comparisons: \")\n",
    "for i in key_comparisons:\n",
    "    print(i)"
   ]
  },
  {
   "cell_type": "code",
   "execution_count": 54,
   "id": "f04b48fb",
   "metadata": {},
   "outputs": [
    {
     "data": {
      "text/html": [
       "<div>\n",
       "<style scoped>\n",
       "    .dataframe tbody tr th:only-of-type {\n",
       "        vertical-align: middle;\n",
       "    }\n",
       "\n",
       "    .dataframe tbody tr th {\n",
       "        vertical-align: top;\n",
       "    }\n",
       "\n",
       "    .dataframe thead th {\n",
       "        text-align: right;\n",
       "    }\n",
       "</style>\n",
       "<table border=\"1\" class=\"dataframe\">\n",
       "  <thead>\n",
       "    <tr style=\"text-align: right;\">\n",
       "      <th></th>\n",
       "      <th>key_comparisons</th>\n",
       "      <th>s_size</th>\n",
       "    </tr>\n",
       "  </thead>\n",
       "  <tbody>\n",
       "    <tr>\n",
       "      <th>key_comparisons</th>\n",
       "      <td>1.000000</td>\n",
       "      <td>0.922608</td>\n",
       "    </tr>\n",
       "    <tr>\n",
       "      <th>s_size</th>\n",
       "      <td>0.922608</td>\n",
       "      <td>1.000000</td>\n",
       "    </tr>\n",
       "  </tbody>\n",
       "</table>\n",
       "</div>"
      ],
      "text/plain": [
       "                 key_comparisons    s_size\n",
       "key_comparisons         1.000000  0.922608\n",
       "s_size                  0.922608  1.000000"
      ]
     },
     "execution_count": 54,
     "metadata": {},
     "output_type": "execute_result"
    },
    {
     "data": {
      "image/png": "[encoded data removed]",
      "text/plain": [
       "<Figure size 1200x1200 with 3 Axes>"
      ]
     },
     "metadata": {},
     "output_type": "display_data"
    }
   ],
   "source": [
    "pd_key_comp = pd.DataFrame({'key_comparisons': key_comparisons})\n",
    "pd_key_comp['s_size'] = pd_key_comp.index\n",
    "\n",
    "sb.jointplot(data = pd_key_comp, x = 's_size', y = \"key_comparisons\", height = 12)\n",
    "pd_key_comp.corr()"
   ]
  },
  {
   "cell_type": "code",
   "execution_count": null,
   "id": "6ceb81cd",
   "metadata": {},
   "outputs": [],
   "source": []
  }
 ],
 "metadata": {
  "kernelspec": {
   "display_name": "Python 3 (ipykernel)",
   "language": "python",
   "name": "python3"
  },
  "language_info": {
   "codemirror_mode": {
    "name": "ipython",
    "version": 3
   },
   "file_extension": ".py",
   "mimetype": "text/x-python",
   "name": "python",
   "nbconvert_exporter": "python",
   "pygments_lexer": "ipython3",
   "version": "3.9.13"
  }
 },
 "nbformat": 4,
 "nbformat_minor": 5
}
